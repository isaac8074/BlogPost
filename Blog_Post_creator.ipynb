{
 "cells": [
  {
   "attachments": {},
   "cell_type": "markdown",
   "metadata": {},
   "source": [
    "# Automatic Blog Post creator\n",
    "\n",
    "In this project we will build a blog poster that writes a blog post given something to talk about or discuss.\n",
    "Additionally, a chariming cover photo will be created!"
   ]
  },
  {
   "attachments": {},
   "cell_type": "markdown",
   "metadata": {},
   "source": [
    "## Imports"
   ]
  },
  {
   "cell_type": "code",
   "execution_count": 1,
   "metadata": {},
   "outputs": [],
   "source": [
    "import random\n",
    "import string\n",
    "from pathlib import Path\n",
    "import os\n",
    "import requests\n",
    "import shutil\n",
    "\n",
    "from git import Repo\n",
    "from bs4 import BeautifulSoup as Soup\n",
    "import openai\n",
    "from PIL import Image"
   ]
  },
  {
   "cell_type": "code",
   "execution_count": 2,
   "metadata": {},
   "outputs": [],
   "source": [
    "openai.api_key = os.getenv('OPENAI_API_KEY')"
   ]
  },
  {
   "attachments": {},
   "cell_type": "markdown",
   "metadata": {},
   "source": [
    "### Paths:"
   ]
  },
  {
   "cell_type": "code",
   "execution_count": 3,
   "metadata": {},
   "outputs": [],
   "source": [
    "#PATH_TO_BLOG_REPO = Path(\"/Users/marci/GIT/OpenAI-API-Python-Course/04-Auto-Blog-Post/b4shy.github.io/.git/\")\n",
    "PATH_TO_BLOG_REPO = Path('/home/isaacbustamante/PycharmProjects/isaac8074.github.io/.git/')\n",
    "PATH_TO_BLOG = PATH_TO_BLOG_REPO.parent\n",
    "PATH_TO_CONTENT = PATH_TO_BLOG/\"content\"\n",
    "PATH_TO_CONTENT.mkdir(exist_ok=True, parents=True)"
   ]
  },
  {
   "cell_type": "code",
   "execution_count": 4,
   "metadata": {},
   "outputs": [
    {
     "data": {
      "text/plain": [
       "PosixPath('/home/isaacbustamante/PycharmProjects/isaac8074.github.io')"
      ]
     },
     "execution_count": 4,
     "metadata": {},
     "output_type": "execute_result"
    }
   ],
   "source": [
    "PATH_TO_BLOG"
   ]
  },
  {
   "attachments": {},
   "cell_type": "markdown",
   "metadata": {},
   "source": [
    "## Github Pages\n",
    "\n",
    "1. Create a new public repository on github named **username.github.io**, where username is github username.\n",
    "2. Clone the repository\n",
    "3. Create a new file called **index.html**\n",
    "4. Add some content to **index.html**\n",
    "5. Push your changes\n",
    "6. Goto https://username.github.io"
   ]
  },
  {
   "attachments": {},
   "cell_type": "markdown",
   "metadata": {},
   "source": [
    "## Automatic updates\n",
    "\n",
    "Manually adding, commiting and pushing is tedious. Thus we are going to implement functionality that handles everything for us.\n",
    "Before using openai to generate content for us, we evaluate our code using random strings!"
   ]
  },
  {
   "cell_type": "code",
   "execution_count": 5,
   "metadata": {},
   "outputs": [
    {
     "data": {
      "text/plain": [
       "'gbedehfhar'"
      ]
     },
     "execution_count": 5,
     "metadata": {},
     "output_type": "execute_result"
    }
   ],
   "source": [
    "def random_string(length):\n",
    "    letters = string.ascii_lowercase + \"\\n\"\n",
    "    \n",
    "    return ''.join(random.choice(letters) for i in range(length))\n",
    "\n",
    "random_string(10)"
   ]
  },
  {
   "cell_type": "code",
   "execution_count": 6,
   "metadata": {},
   "outputs": [],
   "source": [
    "def update_blog(commit_message=\"Updated blog\"):\n",
    "    repo = Repo(PATH_TO_BLOG_REPO)\n",
    "    repo.git.add(all=True)\n",
    "    repo.index.commit(commit_message)\n",
    "    origin = repo.remote(name='origin')\n",
    "    origin.push()"
   ]
  },
  {
   "attachments": {},
   "cell_type": "markdown",
   "metadata": {},
   "source": [
    "Let's create a random text and push it to our blog!"
   ]
  },
  {
   "cell_type": "code",
   "execution_count": 7,
   "metadata": {},
   "outputs": [],
   "source": [
    "random_blogpost = random_string(1000)"
   ]
  },
  {
   "cell_type": "code",
   "execution_count": 8,
   "metadata": {},
   "outputs": [],
   "source": [
    "with open(PATH_TO_BLOG/\"index.html\", \"w\") as f:\n",
    "    f.write(random_blogpost)"
   ]
  },
  {
   "cell_type": "code",
   "execution_count": 9,
   "metadata": {},
   "outputs": [
    {
     "ename": "GitCommandError",
     "evalue": "Cmd('git') failed due to: exit code(128)\n  cmdline: git push --porcelain -- origin\n  stderr: 'fatal: could not read Username for 'https://github.com': No such device or address'",
     "output_type": "error",
     "traceback": [
      "\u001b[0;31m---------------------------------------------------------------------------\u001b[0m",
      "\u001b[0;31mGitCommandError\u001b[0m                           Traceback (most recent call last)",
      "Cell \u001b[0;32mIn[9], line 1\u001b[0m\n\u001b[0;32m----> 1\u001b[0m update_blog()\n",
      "Cell \u001b[0;32mIn[6], line 6\u001b[0m, in \u001b[0;36mupdate_blog\u001b[0;34m(commit_message)\u001b[0m\n\u001b[1;32m      4\u001b[0m repo\u001b[39m.\u001b[39mindex\u001b[39m.\u001b[39mcommit(commit_message)\n\u001b[1;32m      5\u001b[0m origin \u001b[39m=\u001b[39m repo\u001b[39m.\u001b[39mremote(name\u001b[39m=\u001b[39m\u001b[39m'\u001b[39m\u001b[39morigin\u001b[39m\u001b[39m'\u001b[39m)\n\u001b[0;32m----> 6\u001b[0m origin\u001b[39m.\u001b[39;49mpush()\n",
      "File \u001b[0;32m~/.local/lib/python3.10/site-packages/git/remote.py:1118\u001b[0m, in \u001b[0;36mRemote.push\u001b[0;34m(self, refspec, progress, kill_after_timeout, allow_unsafe_protocols, allow_unsafe_options, **kwargs)\u001b[0m\n\u001b[1;32m   1106\u001b[0m     Git\u001b[39m.\u001b[39mcheck_unsafe_options(options\u001b[39m=\u001b[39m\u001b[39mlist\u001b[39m(kwargs\u001b[39m.\u001b[39mkeys()), unsafe_options\u001b[39m=\u001b[39m\u001b[39mself\u001b[39m\u001b[39m.\u001b[39munsafe_git_push_options)\n\u001b[1;32m   1108\u001b[0m proc \u001b[39m=\u001b[39m \u001b[39mself\u001b[39m\u001b[39m.\u001b[39mrepo\u001b[39m.\u001b[39mgit\u001b[39m.\u001b[39mpush(\n\u001b[1;32m   1109\u001b[0m     \u001b[39m\"\u001b[39m\u001b[39m--\u001b[39m\u001b[39m\"\u001b[39m,\n\u001b[1;32m   1110\u001b[0m     \u001b[39mself\u001b[39m,\n\u001b[0;32m   (...)\u001b[0m\n\u001b[1;32m   1116\u001b[0m     \u001b[39m*\u001b[39m\u001b[39m*\u001b[39mkwargs,\n\u001b[1;32m   1117\u001b[0m )\n\u001b[0;32m-> 1118\u001b[0m \u001b[39mreturn\u001b[39;00m \u001b[39mself\u001b[39;49m\u001b[39m.\u001b[39;49m_get_push_info(proc, progress, kill_after_timeout\u001b[39m=\u001b[39;49mkill_after_timeout)\n",
      "File \u001b[0;32m~/.local/lib/python3.10/site-packages/git/remote.py:927\u001b[0m, in \u001b[0;36mRemote._get_push_info\u001b[0;34m(self, proc, progress, kill_after_timeout)\u001b[0m\n\u001b[1;32m    925\u001b[0m stderr_text \u001b[39m=\u001b[39m progress\u001b[39m.\u001b[39merror_lines \u001b[39mand\u001b[39;00m \u001b[39m\"\u001b[39m\u001b[39m\\n\u001b[39;00m\u001b[39m\"\u001b[39m\u001b[39m.\u001b[39mjoin(progress\u001b[39m.\u001b[39merror_lines) \u001b[39mor\u001b[39;00m \u001b[39m\"\u001b[39m\u001b[39m\"\u001b[39m\n\u001b[1;32m    926\u001b[0m \u001b[39mtry\u001b[39;00m:\n\u001b[0;32m--> 927\u001b[0m     proc\u001b[39m.\u001b[39;49mwait(stderr\u001b[39m=\u001b[39;49mstderr_text)\n\u001b[1;32m    928\u001b[0m \u001b[39mexcept\u001b[39;00m \u001b[39mException\u001b[39;00m \u001b[39mas\u001b[39;00m e:\n\u001b[1;32m    929\u001b[0m     \u001b[39m# This is different than fetch (which fails if there is any std_err\u001b[39;00m\n\u001b[1;32m    930\u001b[0m     \u001b[39m# even if there is an output)\u001b[39;00m\n\u001b[1;32m    931\u001b[0m     \u001b[39mif\u001b[39;00m \u001b[39mnot\u001b[39;00m output:\n",
      "File \u001b[0;32m~/.local/lib/python3.10/site-packages/git/cmd.py:604\u001b[0m, in \u001b[0;36mGit.AutoInterrupt.wait\u001b[0;34m(self, stderr)\u001b[0m\n\u001b[1;32m    602\u001b[0m     errstr \u001b[39m=\u001b[39m read_all_from_possibly_closed_stream(p_stderr)\n\u001b[1;32m    603\u001b[0m     log\u001b[39m.\u001b[39mdebug(\u001b[39m\"\u001b[39m\u001b[39mAutoInterrupt wait stderr: \u001b[39m\u001b[39m%r\u001b[39;00m\u001b[39m\"\u001b[39m \u001b[39m%\u001b[39m (errstr,))\n\u001b[0;32m--> 604\u001b[0m     \u001b[39mraise\u001b[39;00m GitCommandError(remove_password_if_present(\u001b[39mself\u001b[39m\u001b[39m.\u001b[39margs), status, errstr)\n\u001b[1;32m    605\u001b[0m \u001b[39mreturn\u001b[39;00m status\n",
      "\u001b[0;31mGitCommandError\u001b[0m: Cmd('git') failed due to: exit code(128)\n  cmdline: git push --porcelain -- origin\n  stderr: 'fatal: could not read Username for 'https://github.com': No such device or address'"
     ]
    }
   ],
   "source": [
    "update_blog()"
   ]
  },
  {
   "cell_type": "code",
   "execution_count": null,
   "metadata": {},
   "outputs": [],
   "source": []
  }
 ],
 "metadata": {
  "kernelspec": {
   "display_name": "Python 3",
   "language": "python",
   "name": "python3"
  },
  "language_info": {
   "codemirror_mode": {
    "name": "ipython",
    "version": 3
   },
   "file_extension": ".py",
   "mimetype": "text/x-python",
   "name": "python",
   "nbconvert_exporter": "python",
   "pygments_lexer": "ipython3",
   "version": "3.10.6"
  },
  "orig_nbformat": 4
 },
 "nbformat": 4,
 "nbformat_minor": 2
}
